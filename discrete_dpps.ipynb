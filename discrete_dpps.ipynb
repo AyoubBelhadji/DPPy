{
 "cells": [
  {
   "cell_type": "markdown",
   "metadata": {},
   "source": [
    "# Discrete DPPs"
   ]
  },
  {
   "cell_type": "code",
   "execution_count": 1,
   "metadata": {},
   "outputs": [
    {
     "name": "stdout",
     "output_type": "stream",
     "text": [
      "Populating the interactive namespace from numpy and matplotlib\n"
     ]
    }
   ],
   "source": [
    "%pylab inline"
   ]
  },
  {
   "cell_type": "code",
   "execution_count": 2,
   "metadata": {},
   "outputs": [],
   "source": [
    "%load_ext autoreload\n",
    "%autoreload 2\n",
    "\n",
    "from dppy.discrete_dpps import *\n",
    "from dppy.discrete_k_dpps import *\n",
    "import networkx as nx"
   ]
  },
  {
   "cell_type": "markdown",
   "metadata": {},
   "source": [
    "# Toy example: uniform spanning tree (UST) kernel"
   ]
  },
  {
   "cell_type": "code",
   "execution_count": 3,
   "metadata": {},
   "outputs": [
    {
     "data": {
      "image/png": "[encoded data removed]",
      "text/plain": [
       "<Figure size 288x288 with 1 Axes>"
      ]
     },
     "metadata": {},
     "output_type": "display_data"
    }
   ],
   "source": [
    "g = nx.Graph()\n",
    "g.add_edges_from([(0,2), (0,3), (1,2), (1,4), (2,3), (2,4), (3,4)])\n",
    "nx.set_node_attributes(g, 'color', 'orange')\n",
    "\n",
    "edge_lab = [r'$e_{}$'.format(i) for i in range(1,g.number_of_edges()+1)]\n",
    "edge_labels = dict(zip(g.edges(), edge_lab))\n",
    "vertex_labels = dict(zip(g.nodes(), [i for i in range(1,g.number_of_nodes()+1)]))\n",
    "\n",
    "fig = plt.figure(figsize=(4,4))\n",
    "\n",
    "nx.draw_circular(g, node_color='orange', width = 3)\n",
    "pos=nx.circular_layout(g)\n",
    "nx.draw_networkx_labels(g,pos,vertex_labels)\n",
    "nx.draw_networkx_edge_labels(g, pos, edge_labels = edge_labels, font_size= 20)\n",
    "\n",
    "Inc_Mat=nx.incidence_matrix(g,oriented=True).toarray()"
   ]
  },
  {
   "cell_type": "markdown",
   "metadata": {},
   "source": [
    "## Initilization of `Discrete_DPP` objects\n",
    "```python\n",
    "Discrtete_DPP(ensemble_type, projection, **params)\n",
    "```\n",
    "- ```ensemble_type = \"K\", \"L\"```\n",
    "- ```projection = True, False```\n"
   ]
  },
  {
   "cell_type": "markdown",
   "metadata": {},
   "source": [
    "If you wish to get basic info about the object you can use either\n",
    "```python\n",
    "ensemble_type, projection = \"K\"/\"L\", True/False\n",
    "params = {...}\n",
    "DPP = Discrete_DPP(ensemble_type, projection, **params)\n",
    "print(DPP)\n",
    "DPP.info()\n",
    "```"
   ]
  },
  {
   "cell_type": "markdown",
   "metadata": {},
   "source": [
    "### DPP as $K$-ensemble i.e. `ensemble_type=\"K\"`\n",
    "$0\\preceq K\\preceq I$\n",
    "\n",
    "$P(S\\subset X) = \\det K_S$"
   ]
  },
  {
   "cell_type": "code",
   "execution_count": 4,
   "metadata": {},
   "outputs": [],
   "source": [
    "# Projection Kernel onto the rows of the incidence matrix\n",
    "A = Inc_Mat[:-1,:] # A_zono\n",
    "K = A.T.dot(np.linalg.inv(A.dot(A.T))).dot(A) # Projection kernel\n",
    "K_eig_dec = la.eigh(K) #=(eig_vals, eig_vec)"
   ]
  },
  {
   "cell_type": "markdown",
   "metadata": {},
   "source": [
    "#### Parameters\n",
    "- `{\"K_kernel\": K}`\n",
    "    - $0\\preceq K \\preceq I$\n",
    "- `{\"K_eig_dec\": (eig_vals, eig_vecs)}`\n",
    "    - $0 \\leq eigvals \\leq 1$\n",
    "- `{\"A_zono\": A}`\n",
    "    - $A (d\\times N)$ with $rank(A)=d$"
   ]
  },
  {
   "cell_type": "markdown",
   "metadata": {},
   "source": [
    "```python\n",
    "ensemble_type, projection = \"K\", True/False\n",
    "params = {...}\n",
    "DPP = Discrete_DPP(ensemble_type, projection, **params)\n",
    "```"
   ]
  },
  {
   "cell_type": "code",
   "execution_count": 5,
   "metadata": {},
   "outputs": [
    {
     "name": "stdout",
     "output_type": "stream",
     "text": [
      "For projection kernel\n",
      "\n",
      "DPP defined as K-ensemble with projection kernel\n",
      "Parametrized by dict_keys(['K_kernel'])\n",
      "- sampling mode = None\n",
      "- number of samples = 0 \n",
      "\n",
      "DPP defined as K-ensemble with projection kernel\n",
      "Parametrized by dict_keys(['K_eig_dec'])\n",
      "- sampling mode = None\n",
      "- number of samples = 0 \n",
      "\n",
      "DPP defined as K-ensemble with projection kernel\n",
      "Parametrized by dict_keys(['A_zono'])\n",
      "- sampling mode = None\n",
      "- number of samples = 0 \n",
      "\n",
      "\n",
      "For non-projection kernel\n",
      "\n",
      "DPP defined as K-ensemble \n",
      "Parametrized by dict_keys(['K_kernel'])\n",
      "- sampling mode = None\n",
      "- number of samples = 0 \n",
      "\n",
      "DPP defined as K-ensemble \n",
      "Parametrized by dict_keys(['K_eig_dec'])\n",
      "- sampling mode = None\n",
      "- number of samples = 0 \n",
      "\n",
      "DPP defined as K-ensemble with projection kernel\n",
      "Parametrized by dict_keys(['A_zono'])\n",
      "- sampling mode = None\n",
      "- number of samples = 0 \n",
      "\n",
      "\n"
     ]
    },
    {
     "name": "stderr",
     "output_type": "stream",
     "text": [
      "/Users/ggautier/Desktop/DPPy/dppy/discrete_dpps.py:209: UserWarning: Weird setting: K-ensemble defined via 'A_zono' but 'projection'=False. 'projection' switched to True\n",
      "  warn(\"Weird setting: K-ensemble defined via 'A_zono' but 'projection'=False. 'projection' switched to True\")\n"
     ]
    }
   ],
   "source": [
    "ensemble_type = \"K\"\n",
    "for proj in [True, False]:\n",
    "    \n",
    "    print(\"For {}projection kernel\\n\".format(\"non-\" if not proj else \"\"))\n",
    "    \n",
    "    for par in [{\"K_kernel\": K}, {\"K_eig_dec\": K_eig_dec}, {\"A_zono\": A}]:\n",
    "        \n",
    "        UST = Discrete_DPP(ensemble_type, proj, **par)\n",
    "        print(UST,\"\\n\")\n",
    "        \n",
    "    print()"
   ]
  },
  {
   "cell_type": "markdown",
   "metadata": {},
   "source": [
    "###### From any parametrization you can get back to the inclusion kernel $K$\n",
    "\n",
    "```python\n",
    "ensemble_type, projection = \"K\", True/False\n",
    "params = {...}\n",
    "DPP = Discrete_DPP(ensemble_type, projection, **params)\n",
    "DPP.compute_K_kernel()\n",
    "```"
   ]
  },
  {
   "cell_type": "code",
   "execution_count": 6,
   "metadata": {},
   "outputs": [
    {
     "name": "stdout",
     "output_type": "stream",
     "text": [
      "For projection kernel\n",
      "\n",
      "K available\n",
      "\n",
      "K kernel computed via:\n",
      "- U diag(eig_K) U.T\n",
      "\n",
      "K kernel computed via:\n",
      "- 'A_zono' i.e. K = A.T (AA.T)^-1 A\n",
      "\n",
      "\n",
      "For non-projection kernel\n",
      "\n",
      "K available\n",
      "\n",
      "K kernel computed via:\n",
      "- U diag(eig_K) U.T\n",
      "\n",
      "K kernel computed via:\n",
      "- 'A_zono' i.e. K = A.T (AA.T)^-1 A\n",
      "\n",
      "\n"
     ]
    },
    {
     "name": "stderr",
     "output_type": "stream",
     "text": [
      "/Users/ggautier/Desktop/DPPy/dppy/discrete_dpps.py:209: UserWarning: Weird setting: K-ensemble defined via 'A_zono' but 'projection'=False. 'projection' switched to True\n",
      "  warn(\"Weird setting: K-ensemble defined via 'A_zono' but 'projection'=False. 'projection' switched to True\")\n"
     ]
    }
   ],
   "source": [
    "ensemble_type = \"K\"\n",
    "\n",
    "for proj in [True, False]:\n",
    "    \n",
    "    print(\"For {}projection kernel\\n\".format(\"non-\" if not proj else \"\"))\n",
    "    \n",
    "    for par in [{\"K_kernel\": K}, {\"K_eig_dec\": K_eig_dec}, {\"A_zono\": A}]:\n",
    "        \n",
    "        UST = Discrete_DPP(ensemble_type, proj, **par)\n",
    "        UST.compute_K_kernel()\n",
    "        print()\n",
    "        \n",
    "    print()"
   ]
  },
  {
   "cell_type": "markdown",
   "metadata": {},
   "source": [
    "###### But if you try to compute the $L$ kernel with a $K$ that is a projection you must encounter an error.\n",
    "```python\n",
    "ensemble_type, projection = \"K\", True\n",
    "params = {...}\n",
    "DPP = Discrete_DPP(ensemble_type, projection, **params)\n",
    "DPP.compute_L_kernel()\n",
    "!!!!ERROR!!!!\n",
    "```\n",
    "\n",
    "Since $K$ is projection it has some eigenvalues close to 1, so\n",
    "$L=K(I-K)^{-1}$ cannot be computed"
   ]
  },
  {
   "cell_type": "code",
   "execution_count": 7,
   "metadata": {},
   "outputs": [
    {
     "name": "stdout",
     "output_type": "stream",
     "text": [
      "L kernel computed via:\n",
      "- eigendecomposition of K\n",
      "- eig_L = eig_K/(1-eig_K)\n"
     ]
    },
    {
     "ename": "FloatingPointError",
     "evalue": "Eigenvalues of L kernel cannot be computed\neig_L = eig_K/(1-eig_K)\nK kernel has some eig_K very close to 1.\nHint: 'K' kernel might be a projection.",
     "output_type": "error",
     "traceback": [
      "\u001b[0;31m---------------------------------------------------------------------------\u001b[0m",
      "\u001b[0;31mFloatingPointError\u001b[0m                        Traceback (most recent call last)",
      "\u001b[0;32m~/Desktop/DPPy/dppy/discrete_dpps.py\u001b[0m in \u001b[0;36mcompute_L_kernel\u001b[0;34m(self, msg)\u001b[0m\n\u001b[1;32m    399\u001b[0m                                         \u001b[0mnp\u001b[0m\u001b[0;34m.\u001b[0m\u001b[0mseterr\u001b[0m\u001b[0;34m(\u001b[0m\u001b[0mdivide\u001b[0m\u001b[0;34m=\u001b[0m\u001b[0;34m'raise'\u001b[0m\u001b[0;34m)\u001b[0m\u001b[0;34m\u001b[0m\u001b[0m\n\u001b[0;32m--> 400\u001b[0;31m                                         \u001b[0mself\u001b[0m\u001b[0;34m.\u001b[0m\u001b[0mL_eig_vals\u001b[0m \u001b[0;34m=\u001b[0m \u001b[0mself\u001b[0m\u001b[0;34m.\u001b[0m\u001b[0mK_eig_vals\u001b[0m\u001b[0;34m/\u001b[0m\u001b[0;34m(\u001b[0m\u001b[0;36m1.0\u001b[0m \u001b[0;34m-\u001b[0m \u001b[0mself\u001b[0m\u001b[0;34m.\u001b[0m\u001b[0mK_eig_vals\u001b[0m\u001b[0;34m)\u001b[0m\u001b[0;34m\u001b[0m\u001b[0m\n\u001b[0m\u001b[1;32m    401\u001b[0m                                         \u001b[0mself\u001b[0m\u001b[0;34m.\u001b[0m\u001b[0mcompute_L_kernel\u001b[0m\u001b[0;34m(\u001b[0m\u001b[0mmsg\u001b[0m\u001b[0;34m=\u001b[0m\u001b[0;32mTrue\u001b[0m\u001b[0;34m)\u001b[0m\u001b[0;34m\u001b[0m\u001b[0m\n",
      "\u001b[0;31mFloatingPointError\u001b[0m: divide by zero encountered in true_divide",
      "\nDuring handling of the above exception, another exception occurred:\n",
      "\u001b[0;31mFloatingPointError\u001b[0m                        Traceback (most recent call last)",
      "\u001b[0;32m<ipython-input-7-557a8da19454>\u001b[0m in \u001b[0;36m<module>\u001b[0;34m()\u001b[0m\n\u001b[1;32m      2\u001b[0m \u001b[0mparams\u001b[0m \u001b[0;34m=\u001b[0m \u001b[0;34m{\u001b[0m\u001b[0;34m\"K_kernel\"\u001b[0m\u001b[0;34m:\u001b[0m \u001b[0mK\u001b[0m\u001b[0;34m}\u001b[0m\u001b[0;34m\u001b[0m\u001b[0m\n\u001b[1;32m      3\u001b[0m \u001b[0mUST\u001b[0m \u001b[0;34m=\u001b[0m \u001b[0mDiscrete_DPP\u001b[0m\u001b[0;34m(\u001b[0m\u001b[0mensemble_type\u001b[0m\u001b[0;34m,\u001b[0m \u001b[0mprojection\u001b[0m\u001b[0;34m,\u001b[0m \u001b[0;34m**\u001b[0m\u001b[0mparams\u001b[0m\u001b[0;34m)\u001b[0m\u001b[0;34m\u001b[0m\u001b[0m\n\u001b[0;32m----> 4\u001b[0;31m \u001b[0mUST\u001b[0m\u001b[0;34m.\u001b[0m\u001b[0mcompute_L_kernel\u001b[0m\u001b[0;34m(\u001b[0m\u001b[0;34m)\u001b[0m\u001b[0;34m\u001b[0m\u001b[0m\n\u001b[0m",
      "\u001b[0;32m~/Desktop/DPPy/dppy/discrete_dpps.py\u001b[0m in \u001b[0;36mcompute_L_kernel\u001b[0;34m(self, msg)\u001b[0m\n\u001b[1;32m    411\u001b[0m                                 \u001b[0mself\u001b[0m\u001b[0;34m.\u001b[0m\u001b[0mK_eig_vals\u001b[0m\u001b[0;34m,\u001b[0m \u001b[0mself\u001b[0m\u001b[0;34m.\u001b[0m\u001b[0meig_vecs\u001b[0m \u001b[0;34m=\u001b[0m \u001b[0mself\u001b[0m\u001b[0;34m.\u001b[0m\u001b[0m__eigendecompose\u001b[0m\u001b[0;34m(\u001b[0m\u001b[0mself\u001b[0m\u001b[0;34m.\u001b[0m\u001b[0mK\u001b[0m\u001b[0;34m)\u001b[0m\u001b[0;34m\u001b[0m\u001b[0m\n\u001b[1;32m    412\u001b[0m                                 \u001b[0mself\u001b[0m\u001b[0;34m.\u001b[0m\u001b[0m__check_eig_vals_in_01\u001b[0m\u001b[0;34m(\u001b[0m\u001b[0mself\u001b[0m\u001b[0;34m.\u001b[0m\u001b[0mK_eig_vals\u001b[0m\u001b[0;34m)\u001b[0m\u001b[0;34m\u001b[0m\u001b[0m\n\u001b[0;32m--> 413\u001b[0;31m                                 \u001b[0mself\u001b[0m\u001b[0;34m.\u001b[0m\u001b[0mcompute_L_kernel\u001b[0m\u001b[0;34m(\u001b[0m\u001b[0mmsg\u001b[0m\u001b[0;34m=\u001b[0m\u001b[0;32mTrue\u001b[0m\u001b[0;34m)\u001b[0m\u001b[0;34m\u001b[0m\u001b[0m\n\u001b[0m\u001b[1;32m    414\u001b[0m \u001b[0;34m\u001b[0m\u001b[0m\n\u001b[1;32m    415\u001b[0m                         \u001b[0;32melse\u001b[0m\u001b[0;34m:\u001b[0m\u001b[0;34m\u001b[0m\u001b[0m\n",
      "\u001b[0;32m~/Desktop/DPPy/dppy/discrete_dpps.py\u001b[0m in \u001b[0;36mcompute_L_kernel\u001b[0;34m(self, msg)\u001b[0m\n\u001b[1;32m    405\u001b[0m                                                                                         \u001b[0;34m\"K kernel has some eig_K very close to 1.\"\u001b[0m\u001b[0;34m,\u001b[0m\u001b[0;34m\u001b[0m\u001b[0m\n\u001b[1;32m    406\u001b[0m \t\t\t\t\t\t\t\t\t\t\t\"Hint: 'K' kernel might be a projection.\")\n\u001b[0;32m--> 407\u001b[0;31m                                         \u001b[0;32mraise\u001b[0m \u001b[0mFloatingPointError\u001b[0m\u001b[0;34m(\u001b[0m\u001b[0;34m\"\\n\"\u001b[0m\u001b[0;34m.\u001b[0m\u001b[0mjoin\u001b[0m\u001b[0;34m(\u001b[0m\u001b[0merr_print\u001b[0m\u001b[0;34m)\u001b[0m\u001b[0;34m)\u001b[0m\u001b[0;34m\u001b[0m\u001b[0m\n\u001b[0m\u001b[1;32m    408\u001b[0m \u001b[0;34m\u001b[0m\u001b[0m\n\u001b[1;32m    409\u001b[0m                         \u001b[0;32melif\u001b[0m \u001b[0mself\u001b[0m\u001b[0;34m.\u001b[0m\u001b[0mK\u001b[0m \u001b[0;32mis\u001b[0m \u001b[0;32mnot\u001b[0m \u001b[0;32mNone\u001b[0m\u001b[0;34m:\u001b[0m\u001b[0;34m\u001b[0m\u001b[0m\n",
      "\u001b[0;31mFloatingPointError\u001b[0m: Eigenvalues of L kernel cannot be computed\neig_L = eig_K/(1-eig_K)\nK kernel has some eig_K very close to 1.\nHint: 'K' kernel might be a projection."
     ]
    }
   ],
   "source": [
    "ensemble_type, projection = \"K\", False# True/False\n",
    "params = {\"K_kernel\": K}\n",
    "UST = Discrete_DPP(ensemble_type, projection, **params)\n",
    "UST.compute_L_kernel()"
   ]
  },
  {
   "cell_type": "code",
   "execution_count": 8,
   "metadata": {},
   "outputs": [
    {
     "name": "stdout",
     "output_type": "stream",
     "text": [
      "L kernel computed via:\n",
      "- eig_L = eig_K/(1-eig_K)\n"
     ]
    },
    {
     "ename": "FloatingPointError",
     "evalue": "Eigenvalues of L kernel cannot be computed\neig_L = eig_K/(1-eig_K)\nK kernel has some eig_K very close to 1.\nHint: 'K' kernel might be a projection.",
     "output_type": "error",
     "traceback": [
      "\u001b[0;31m---------------------------------------------------------------------------\u001b[0m",
      "\u001b[0;31mFloatingPointError\u001b[0m                        Traceback (most recent call last)",
      "\u001b[0;32m~/Desktop/DPPy/dppy/discrete_dpps.py\u001b[0m in \u001b[0;36mcompute_L_kernel\u001b[0;34m(self, msg)\u001b[0m\n\u001b[1;32m    399\u001b[0m                                         \u001b[0mnp\u001b[0m\u001b[0;34m.\u001b[0m\u001b[0mseterr\u001b[0m\u001b[0;34m(\u001b[0m\u001b[0mdivide\u001b[0m\u001b[0;34m=\u001b[0m\u001b[0;34m'raise'\u001b[0m\u001b[0;34m)\u001b[0m\u001b[0;34m\u001b[0m\u001b[0m\n\u001b[0;32m--> 400\u001b[0;31m                                         \u001b[0mself\u001b[0m\u001b[0;34m.\u001b[0m\u001b[0mL_eig_vals\u001b[0m \u001b[0;34m=\u001b[0m \u001b[0mself\u001b[0m\u001b[0;34m.\u001b[0m\u001b[0mK_eig_vals\u001b[0m\u001b[0;34m/\u001b[0m\u001b[0;34m(\u001b[0m\u001b[0;36m1.0\u001b[0m \u001b[0;34m-\u001b[0m \u001b[0mself\u001b[0m\u001b[0;34m.\u001b[0m\u001b[0mK_eig_vals\u001b[0m\u001b[0;34m)\u001b[0m\u001b[0;34m\u001b[0m\u001b[0m\n\u001b[0m\u001b[1;32m    401\u001b[0m                                         \u001b[0mself\u001b[0m\u001b[0;34m.\u001b[0m\u001b[0mcompute_L_kernel\u001b[0m\u001b[0;34m(\u001b[0m\u001b[0mmsg\u001b[0m\u001b[0;34m=\u001b[0m\u001b[0;32mTrue\u001b[0m\u001b[0;34m)\u001b[0m\u001b[0;34m\u001b[0m\u001b[0m\n",
      "\u001b[0;31mFloatingPointError\u001b[0m: divide by zero encountered in true_divide",
      "\nDuring handling of the above exception, another exception occurred:\n",
      "\u001b[0;31mFloatingPointError\u001b[0m                        Traceback (most recent call last)",
      "\u001b[0;32m<ipython-input-8-9ac22cc1156a>\u001b[0m in \u001b[0;36m<module>\u001b[0;34m()\u001b[0m\n\u001b[1;32m      2\u001b[0m \u001b[0mparams\u001b[0m \u001b[0;34m=\u001b[0m \u001b[0;34m{\u001b[0m\u001b[0;34m\"K_eig_dec\"\u001b[0m\u001b[0;34m:\u001b[0m \u001b[0mK_eig_dec\u001b[0m\u001b[0;34m}\u001b[0m\u001b[0;34m\u001b[0m\u001b[0m\n\u001b[1;32m      3\u001b[0m \u001b[0mUST\u001b[0m \u001b[0;34m=\u001b[0m \u001b[0mDiscrete_DPP\u001b[0m\u001b[0;34m(\u001b[0m\u001b[0mensemble_type\u001b[0m\u001b[0;34m,\u001b[0m \u001b[0mprojection\u001b[0m\u001b[0;34m,\u001b[0m \u001b[0;34m**\u001b[0m\u001b[0mparams\u001b[0m\u001b[0;34m)\u001b[0m\u001b[0;34m\u001b[0m\u001b[0m\n\u001b[0;32m----> 4\u001b[0;31m \u001b[0mUST\u001b[0m\u001b[0;34m.\u001b[0m\u001b[0mcompute_L_kernel\u001b[0m\u001b[0;34m(\u001b[0m\u001b[0;34m)\u001b[0m\u001b[0;34m\u001b[0m\u001b[0m\n\u001b[0m",
      "\u001b[0;32m~/Desktop/DPPy/dppy/discrete_dpps.py\u001b[0m in \u001b[0;36mcompute_L_kernel\u001b[0;34m(self, msg)\u001b[0m\n\u001b[1;32m    405\u001b[0m                                                                                         \u001b[0;34m\"K kernel has some eig_K very close to 1.\"\u001b[0m\u001b[0;34m,\u001b[0m\u001b[0;34m\u001b[0m\u001b[0m\n\u001b[1;32m    406\u001b[0m \t\t\t\t\t\t\t\t\t\t\t\"Hint: 'K' kernel might be a projection.\")\n\u001b[0;32m--> 407\u001b[0;31m                                         \u001b[0;32mraise\u001b[0m \u001b[0mFloatingPointError\u001b[0m\u001b[0;34m(\u001b[0m\u001b[0;34m\"\\n\"\u001b[0m\u001b[0;34m.\u001b[0m\u001b[0mjoin\u001b[0m\u001b[0;34m(\u001b[0m\u001b[0merr_print\u001b[0m\u001b[0;34m)\u001b[0m\u001b[0;34m)\u001b[0m\u001b[0;34m\u001b[0m\u001b[0m\n\u001b[0m\u001b[1;32m    408\u001b[0m \u001b[0;34m\u001b[0m\u001b[0m\n\u001b[1;32m    409\u001b[0m                         \u001b[0;32melif\u001b[0m \u001b[0mself\u001b[0m\u001b[0;34m.\u001b[0m\u001b[0mK\u001b[0m \u001b[0;32mis\u001b[0m \u001b[0;32mnot\u001b[0m \u001b[0;32mNone\u001b[0m\u001b[0;34m:\u001b[0m\u001b[0;34m\u001b[0m\u001b[0m\n",
      "\u001b[0;31mFloatingPointError\u001b[0m: Eigenvalues of L kernel cannot be computed\neig_L = eig_K/(1-eig_K)\nK kernel has some eig_K very close to 1.\nHint: 'K' kernel might be a projection."
     ]
    }
   ],
   "source": [
    "ensemble_type, projection = \"K\", False# True/False\n",
    "params = {\"K_eig_dec\": K_eig_dec}\n",
    "UST = Discrete_DPP(ensemble_type, projection, **params)\n",
    "UST.compute_L_kernel()"
   ]
  },
  {
   "cell_type": "code",
   "execution_count": 9,
   "metadata": {},
   "outputs": [
    {
     "name": "stderr",
     "output_type": "stream",
     "text": [
      "/Users/ggautier/Desktop/DPPy/dppy/discrete_dpps.py:209: UserWarning: Weird setting: K-ensemble defined via 'A_zono' but 'projection'=False. 'projection' switched to True\n",
      "  warn(\"Weird setting: K-ensemble defined via 'A_zono' but 'projection'=False. 'projection' switched to True\")\n"
     ]
    },
    {
     "ename": "ValueError",
     "evalue": "L = K(I-K)^-1 = (I-K)^-1 - I kernel cannot be computed:\nK being a projection kernel it has some eigenvalues equal to 1",
     "output_type": "error",
     "traceback": [
      "\u001b[0;31m---------------------------------------------------------------------------\u001b[0m",
      "\u001b[0;31mValueError\u001b[0m                                Traceback (most recent call last)",
      "\u001b[0;32m<ipython-input-9-a1e3caef8852>\u001b[0m in \u001b[0;36m<module>\u001b[0;34m()\u001b[0m\n\u001b[1;32m      2\u001b[0m \u001b[0mparams\u001b[0m \u001b[0;34m=\u001b[0m \u001b[0;34m{\u001b[0m\u001b[0;34m\"A_zono\"\u001b[0m\u001b[0;34m:\u001b[0m \u001b[0mA\u001b[0m\u001b[0;34m}\u001b[0m\u001b[0;34m\u001b[0m\u001b[0m\n\u001b[1;32m      3\u001b[0m \u001b[0mUST\u001b[0m \u001b[0;34m=\u001b[0m \u001b[0mDiscrete_DPP\u001b[0m\u001b[0;34m(\u001b[0m\u001b[0mensemble_type\u001b[0m\u001b[0;34m,\u001b[0m \u001b[0mprojection\u001b[0m\u001b[0;34m,\u001b[0m \u001b[0;34m**\u001b[0m\u001b[0mparams\u001b[0m\u001b[0;34m)\u001b[0m\u001b[0;34m\u001b[0m\u001b[0m\n\u001b[0;32m----> 4\u001b[0;31m \u001b[0mUST\u001b[0m\u001b[0;34m.\u001b[0m\u001b[0mcompute_L_kernel\u001b[0m\u001b[0;34m(\u001b[0m\u001b[0;34m)\u001b[0m\u001b[0;34m\u001b[0m\u001b[0m\n\u001b[0m",
      "\u001b[0;32m~/Desktop/DPPy/dppy/discrete_dpps.py\u001b[0m in \u001b[0;36mcompute_L_kernel\u001b[0;34m(self, msg)\u001b[0m\n\u001b[1;32m    380\u001b[0m \t\t\terr_print = (\"L = K(I-K)^-1 = (I-K)^-1 - I kernel cannot be computed:\",\n\u001b[1;32m    381\u001b[0m \t\t\t\t\t\t\t\t\t\"K being a projection kernel it has some eigenvalues equal to 1\")\n\u001b[0;32m--> 382\u001b[0;31m                         \u001b[0;32mraise\u001b[0m \u001b[0mValueError\u001b[0m\u001b[0;34m(\u001b[0m\u001b[0;34m\"\\n\"\u001b[0m\u001b[0;34m.\u001b[0m\u001b[0mjoin\u001b[0m\u001b[0;34m(\u001b[0m\u001b[0merr_print\u001b[0m\u001b[0;34m)\u001b[0m\u001b[0;34m)\u001b[0m\u001b[0;34m\u001b[0m\u001b[0m\n\u001b[0m\u001b[1;32m    383\u001b[0m \u001b[0;34m\u001b[0m\u001b[0m\n\u001b[1;32m    384\u001b[0m                 \u001b[0;32melif\u001b[0m \u001b[0mself\u001b[0m\u001b[0;34m.\u001b[0m\u001b[0mL\u001b[0m \u001b[0;32mis\u001b[0m \u001b[0;32mNone\u001b[0m\u001b[0;34m:\u001b[0m\u001b[0;34m\u001b[0m\u001b[0m\n",
      "\u001b[0;31mValueError\u001b[0m: L = K(I-K)^-1 = (I-K)^-1 - I kernel cannot be computed:\nK being a projection kernel it has some eigenvalues equal to 1"
     ]
    }
   ],
   "source": [
    "ensemble_type, projection = \"K\", False# True/False\n",
    "params = {\"A_zono\": A}\n",
    "UST = Discrete_DPP(ensemble_type, projection, **params)\n",
    "UST.compute_L_kernel()"
   ]
  },
  {
   "cell_type": "markdown",
   "metadata": {},
   "source": [
    "### DPP as $L$-ensemble i.e. `ensemble_type=\"L\"`\n",
    "$L\\succeq 0$\n",
    "\n",
    "$P(X=S) \\propto \\det L_S = \\dfrac{\\det L_S}{\\det(I+L)}$"
   ]
  },
  {
   "cell_type": "markdown",
   "metadata": {},
   "source": [
    "#### Parameters\n",
    "- `{\"L_kernel\": L}`\n",
    "\n",
    "    - $L\\succeq 0$\n",
    "\n",
    "- `{\"L_eig_dec\": (eig_vals, eig_vecs)}`\n",
    "\n",
    "    - $eigvals \\geq 0$\n",
    "\n",
    "- `{\"L_gram_factor\": Phi}`\n",
    "\n",
    "    - $L = \\Phi^{\\top} \\Phi$\n",
    "\n",
    "    - $L' = \\Phi\\Phi^{\\top}$\n",
    "    \n",
    "    \n",
    "```python\n",
    "ensemble_type, projection = \"L\", True/False\n",
    "params = {...}\n",
    "DPP = Discrete_DPP(ensemble_type, projection, **params)\n",
    "```"
   ]
  },
  {
   "cell_type": "code",
   "execution_count": 10,
   "metadata": {},
   "outputs": [
    {
     "name": "stdout",
     "output_type": "stream",
     "text": [
      "For projection kernel\n",
      "\n",
      "DPP defined as L-ensemble with projection kernel\n",
      "Parametrized by dict_keys(['L_kernel'])\n",
      "- sampling mode = None\n",
      "- number of samples = 0 \n",
      "\n",
      "DPP defined as L-ensemble with projection kernel\n",
      "Parametrized by dict_keys(['L_eig_dec'])\n",
      "- sampling mode = None\n",
      "- number of samples = 0 \n",
      "\n",
      "d=4 < N=7: L dual kernel was computed\n",
      "DPP defined as L-ensemble with projection kernel\n",
      "Parametrized by dict_keys(['L_gram_factor'])\n",
      "- sampling mode = None\n",
      "- number of samples = 0 \n",
      "\n",
      "\n",
      "For non-projection kernel\n",
      "\n",
      "DPP defined as L-ensemble \n",
      "Parametrized by dict_keys(['L_kernel'])\n",
      "- sampling mode = None\n",
      "- number of samples = 0 \n",
      "\n",
      "DPP defined as L-ensemble \n",
      "Parametrized by dict_keys(['L_eig_dec'])\n",
      "- sampling mode = None\n",
      "- number of samples = 0 \n",
      "\n",
      "d=4 < N=7: L dual kernel was computed\n",
      "DPP defined as L-ensemble \n",
      "Parametrized by dict_keys(['L_gram_factor'])\n",
      "- sampling mode = None\n",
      "- number of samples = 0 \n",
      "\n",
      "\n"
     ]
    },
    {
     "name": "stderr",
     "output_type": "stream",
     "text": [
      "/Users/ggautier/Desktop/DPPy/dppy/discrete_dpps.py:148: UserWarning: 'L_gram_factor'+'projection'=True is a very weird setting, you may switch to 'projection'=False\n",
      "  warn(\"'L_gram_factor'+'projection'=True is a very weird setting, you may switch to 'projection'=False\")\n"
     ]
    }
   ],
   "source": [
    "ensemble_type = \"L\"\n",
    "for proj in [True, False]:\n",
    "    \n",
    "    print(\"For {}projection kernel\\n\".format(\"non-\" if not proj else \"\"))\n",
    "    \n",
    "    for par in [{\"L_kernel\": K}, {\"L_eig_dec\": K_eig_dec}, {\"L_gram_factor\": A}]:\n",
    "        \n",
    "        UST = Discrete_DPP(ensemble_type, proj, **par)\n",
    "        print(UST,\"\\n\")\n",
    "        \n",
    "    print()"
   ]
  },
  {
   "cell_type": "markdown",
   "metadata": {},
   "source": [
    "###### From any parametrization you can get back to the marginal kernel $L$"
   ]
  },
  {
   "cell_type": "markdown",
   "metadata": {},
   "source": [
    "```python\n",
    "ensemble_type, projection = \"L\", True/False\n",
    "params = {...}\n",
    "DPP = Discrete_DPP(ensemble_type, projection, **params)\n",
    "DPP.compute_L_kernel()\n",
    "```"
   ]
  },
  {
   "cell_type": "code",
   "execution_count": 11,
   "metadata": {},
   "outputs": [
    {
     "name": "stdout",
     "output_type": "stream",
     "text": [
      "For projection kernel\n",
      "\n",
      "L available\n",
      "\n",
      "L kernel computed via:\n",
      "- U diag(eig_L) U.T\n",
      "\n",
      "d=4 < N=7: L dual kernel was computed\n",
      "L kernel computed via:\n",
      "- 'L_gram_factor' i.e. L = Phi.T Phi\n",
      "\n",
      "\n",
      "For non-projection kernel\n",
      "\n",
      "L available\n",
      "\n",
      "L kernel computed via:\n",
      "- U diag(eig_L) U.T\n",
      "\n",
      "d=4 < N=7: L dual kernel was computed\n",
      "L kernel computed via:\n",
      "- 'L_gram_factor' i.e. L = Phi.T Phi\n",
      "\n",
      "\n"
     ]
    },
    {
     "name": "stderr",
     "output_type": "stream",
     "text": [
      "/Users/ggautier/Desktop/DPPy/dppy/discrete_dpps.py:148: UserWarning: 'L_gram_factor'+'projection'=True is a very weird setting, you may switch to 'projection'=False\n",
      "  warn(\"'L_gram_factor'+'projection'=True is a very weird setting, you may switch to 'projection'=False\")\n"
     ]
    }
   ],
   "source": [
    "ensemble_type = \"L\"\n",
    "for proj in [True, False]:\n",
    "    \n",
    "    print(\"For {}projection kernel\\n\".format(\"non-\" if not proj else \"\"))\n",
    "    \n",
    "    for par in [{\"L_kernel\": K}, {\"L_eig_dec\": K_eig_dec}, {\"L_gram_factor\": A}]:\n",
    "        \n",
    "        UST = Discrete_DPP(ensemble_type, proj, **par)\n",
    "        UST.compute_L_kernel()\n",
    "        print()\n",
    "    \n",
    "    print()"
   ]
  },
  {
   "cell_type": "markdown",
   "metadata": {},
   "source": [
    "###### And you should always be able to compute the inclusion kernel $K$\n",
    "$K=L(I+L)^{-1}$\n",
    "\n",
    "```python\n",
    "ensemble_type, projection = \"L\", True/False\n",
    "params = {...}\n",
    "DPP = Discrete_DPP(ensemble_type, projection, **params)\n",
    "DPP.compute_K_kernel()\n",
    "```"
   ]
  },
  {
   "cell_type": "code",
   "execution_count": 12,
   "metadata": {},
   "outputs": [
    {
     "name": "stdout",
     "output_type": "stream",
     "text": [
      "For projection kernel\n",
      "\n",
      "K kernel computed via:\n",
      "- eigendecomposition of L\n",
      "- eig_K = eig_L/(1+eig_L)\n",
      "- U diag(eig_K) U.T\n",
      "\n",
      "K kernel computed via:\n",
      "- eig_K = eig_L/(1+eig_L)\n",
      "- U diag(eig_K) U.T\n",
      "\n",
      "d=4 < N=7: L dual kernel was computed\n",
      "K kernel computed via:\n",
      "- 'L_gram_factor' i.e. L = Phi.T Phi\n",
      "- eigendecomposition of L\n",
      "- eig_K = eig_L/(1+eig_L)\n",
      "- U diag(eig_K) U.T\n",
      "\n",
      "\n",
      "For non-projection kernel\n",
      "\n",
      "K kernel computed via:\n",
      "- eigendecomposition of L\n",
      "- eig_K = eig_L/(1+eig_L)\n",
      "- U diag(eig_K) U.T\n",
      "\n",
      "K kernel computed via:\n",
      "- eig_K = eig_L/(1+eig_L)\n",
      "- U diag(eig_K) U.T\n",
      "\n",
      "d=4 < N=7: L dual kernel was computed\n",
      "K kernel computed via:\n",
      "- 'L_gram_factor' i.e. L = Phi.T Phi\n",
      "- eigendecomposition of L\n",
      "- eig_K = eig_L/(1+eig_L)\n",
      "- U diag(eig_K) U.T\n",
      "\n",
      "\n"
     ]
    },
    {
     "name": "stderr",
     "output_type": "stream",
     "text": [
      "/Users/ggautier/Desktop/DPPy/dppy/discrete_dpps.py:148: UserWarning: 'L_gram_factor'+'projection'=True is a very weird setting, you may switch to 'projection'=False\n",
      "  warn(\"'L_gram_factor'+'projection'=True is a very weird setting, you may switch to 'projection'=False\")\n"
     ]
    }
   ],
   "source": [
    "ensemble_type = \"L\"\n",
    "for proj in [True, False]:\n",
    "    \n",
    "    print(\"For {}projection kernel\\n\".format(\"non-\" if not proj else \"\"))\n",
    "    \n",
    "    for par in [{\"L_kernel\": K}, {\"L_eig_dec\": K_eig_dec}, {\"L_gram_factor\": A}]:\n",
    "        \n",
    "        UST = Discrete_DPP(ensemble_type, proj, **par)\n",
    "        UST.compute_K_kernel()\n",
    "        print()\n",
    "    \n",
    "    print()"
   ]
  },
  {
   "cell_type": "markdown",
   "metadata": {},
   "source": [
    "## Sampling\n",
    "Samples are saved in the list_of_samples attribute\n",
    "```python\n",
    "DPP.list_of_samples\n",
    "```\n",
    "You can flush previous samples using\n",
    "```python\n",
    "DPP.flush_samples()\n",
    "```"
   ]
  },
  {
   "cell_type": "markdown",
   "metadata": {},
   "source": [
    "### Exact sampling\n",
    "- `sampling_mode=\"GS\"` (default)\n",
    "    - Gram-Schmidt\n",
    "- `sampling_mode=\"GS_bis\"`\n",
    "    - Slight modif of \"GS\"\n",
    "- `sampling_mode=\"KuTa12`\n",
    "    - Kulesza algo\n",
    "\n",
    "```python\n",
    "ensemble_type, projection = \"K\"/\"L\", True/False\n",
    "params = {...}\n",
    "DPP = Discrete_DPP(ensemble_type, projection, **params)\n",
    "DPP.sample_exact(sampling_mode)\n",
    "```"
   ]
  },
  {
   "cell_type": "markdown",
   "metadata": {},
   "source": [
    "##### $K$-ensemble"
   ]
  },
  {
   "cell_type": "code",
   "execution_count": 13,
   "metadata": {
    "scrolled": false
   },
   "outputs": [
    {
     "name": "stdout",
     "output_type": "stream",
     "text": [
      "dict_keys(['K_kernel'])\n",
      "GS\n",
      "[[0, 2, 1, 3]]\n",
      "GS_bis\n",
      "[[1, 0, 2, 6]]\n",
      "KuTa12\n",
      "[[0, 5, 3, 4]]\n",
      "\n",
      "dict_keys(['K_eig_dec'])\n",
      "GS\n",
      "[[6, 3, 4, 1]]\n",
      "GS_bis\n",
      "[[1, 0, 2, 3]]\n",
      "KuTa12\n",
      "[[3, 0, 4, 5]]\n",
      "\n",
      "dict_keys(['A_zono'])\n",
      "GS\n",
      "K kernel computed via:\n",
      "- 'A_zono' i.e. K = A.T (AA.T)^-1 A\n",
      "[[2, 6, 1, 3]]\n",
      "GS_bis\n",
      "K kernel computed via:\n",
      "- 'A_zono' i.e. K = A.T (AA.T)^-1 A\n",
      "[[1, 5, 0, 2]]\n",
      "KuTa12\n",
      "K kernel computed via:\n",
      "- 'A_zono' i.e. K = A.T (AA.T)^-1 A\n",
      "[[3, 1, 2, 6]]\n",
      "\n"
     ]
    },
    {
     "name": "stderr",
     "output_type": "stream",
     "text": [
      "/Users/ggautier/Desktop/DPPy/dppy/discrete_dpps.py:209: UserWarning: Weird setting: K-ensemble defined via 'A_zono' but 'projection'=False. 'projection' switched to True\n",
      "  warn(\"Weird setting: K-ensemble defined via 'A_zono' but 'projection'=False. 'projection' switched to True\")\n",
      "/Users/ggautier/Desktop/DPPy/dppy/discrete_dpps.py:293: UserWarning: DPP defined via 'A_zono', apriori you want to use 'sample_approx', but you have called 'sample_exact'\n",
      "  warn(\"DPP defined via 'A_zono', apriori you want to use 'sample_approx', but you have called 'sample_exact'\")\n"
     ]
    }
   ],
   "source": [
    "ensemble_type, projection = \"K\", False# True/False\n",
    "for par in [{\"K_kernel\": K}, {\"K_eig_dec\": K_eig_dec}, {\"A_zono\": A}]:\n",
    "    \n",
    "    print(par.keys())\n",
    "    \n",
    "    for samp_mod in [\"GS\", \"GS_bis\", \"KuTa12\"]: \n",
    "        \n",
    "        print(samp_mod)\n",
    "        UST = Discrete_DPP(ensemble_type, projection, **par)\n",
    "        UST.sample_exact(sampling_mode=samp_mod)\n",
    "        print(UST.list_of_samples)\n",
    "\n",
    "    print()"
   ]
  },
  {
   "cell_type": "markdown",
   "metadata": {},
   "source": [
    "##### $L$-ensemble"
   ]
  },
  {
   "cell_type": "code",
   "execution_count": 14,
   "metadata": {},
   "outputs": [
    {
     "name": "stdout",
     "output_type": "stream",
     "text": [
      "dict_keys(['L_kernel'])\n",
      "GS\n",
      "[[0]]\n",
      "GS_bis\n",
      "[[1, 5]]\n",
      "KuTa12\n",
      "[[]]\n",
      "\n",
      "dict_keys(['L_eig_dec'])\n",
      "GS\n",
      "[[0]]\n",
      "GS_bis\n",
      "[[2]]\n",
      "KuTa12\n",
      "[[6, 0]]\n",
      "\n",
      "dict_keys(['L_gram_factor'])\n",
      "GS\n",
      "d=4 < N=7: L dual kernel was computed\n",
      "[[1, 2, 5, 6]]\n",
      "GS_bis\n",
      "d=4 < N=7: L dual kernel was computed\n",
      "[[2]]\n",
      "KuTa12\n",
      "d=4 < N=7: L dual kernel was computed\n",
      "[[2]]\n",
      "\n"
     ]
    },
    {
     "name": "stderr",
     "output_type": "stream",
     "text": [
      "/Users/ggautier/Desktop/DPPy/dppy/discrete_dpps.py:148: UserWarning: 'L_gram_factor'+'projection'=True is a very weird setting, you may switch to 'projection'=False\n",
      "  warn(\"'L_gram_factor'+'projection'=True is a very weird setting, you may switch to 'projection'=False\")\n"
     ]
    }
   ],
   "source": [
    "ensemble_type, projection = \"L\", True# True/False\n",
    "for par in [{\"L_kernel\": K}, {\"L_eig_dec\": K_eig_dec}, {\"L_gram_factor\": A}]:\n",
    "    \n",
    "    print(par.keys())\n",
    "    \n",
    "    for samp_mod in [\"GS\", \"GS_bis\", \"KuTa12\"]: \n",
    "        \n",
    "        print(samp_mod)\n",
    "        UST = Discrete_DPP(ensemble_type, projection, **par)\n",
    "        UST.sample_exact(sampling_mode=samp_mod)\n",
    "        print(UST.list_of_samples)\n",
    "\n",
    "    print()"
   ]
  },
  {
   "cell_type": "markdown",
   "metadata": {},
   "source": [
    "### Approximate sampling\n",
    "```python\n",
    "sampling_mode=\n",
    "```\n",
    "- `\"AED\"` Add-Exchange-Delete\n",
    "- `\"AD\"` Add-Delete\n",
    "- `\"E\"` Exchange\n",
    "- `\"zonotope\"` Zonotope sampling\n",
    "    \n",
    "```python\n",
    "!!!NOTE!!!\n",
    "```\n",
    "- `\"AED\"` and `\"AD\"` require the availability of $L$ kernel\n",
    "- For projection $K$-ensemble you can only use\n",
    "    - `\"E\"`\n",
    "    - `\"zonotope\"`` if \"A_zono\" provided\n",
    "\n",
    "\n",
    "```python\n",
    "sampl_params={}\n",
    "```\n",
    "- `\"s_init\"` (default None) Starting state of the Markov chain\n",
    "- `\"nb_iter_max\"` (default 10) Number of iterations of the chain\n",
    "- `\"T_max\"` (default None) Time horizon\n",
    "- `\"size\"` (default None) Size of the initial sample for `sampling_mode=\"AD\"/\"E\"`\n",
    "    - $=Tr(K)$ for $K$-ensemble with projection kernel and `sampling_mode=\"E\"`\n",
    "\n",
    "```python\n",
    "ensemble_type, projection = \"K\"/\"L\", True/False\n",
    "params = {...}\n",
    "DPP = Discrete_DPP(ensemble_type, projection, **params)\n",
    "sampl_params = {\"s_init\": None, \"nb_iter_max\": 10, \"T_max\":, size}\n",
    "DPP.sample_exact(sampling_mode, **sampl_params)\n",
    "```"
   ]
  },
  {
   "cell_type": "markdown",
   "metadata": {},
   "source": [
    "##### For projection $K$-ensemble"
   ]
  },
  {
   "cell_type": "code",
   "execution_count": 15,
   "metadata": {},
   "outputs": [
    {
     "name": "stdout",
     "output_type": "stream",
     "text": [
      "dict_keys(['K_kernel'])\n",
      "E\n",
      "K available\n",
      "[[[0, 4, 5, 2], [1, 4, 5, 2], [1, 4, 5, 2], [1, 4, 5, 2], [1, 4, 5, 2], [1, 4, 5, 2], [1, 4, 5, 2], [1, 4, 5, 2], [1, 4, 5, 3], [1, 4, 5, 3]]]\n",
      "\n",
      "\n",
      "dict_keys(['K_eig_dec'])\n",
      "E\n",
      "K kernel computed via:\n",
      "- U diag(eig_K) U.T\n",
      "[[[1, 3, 5, 4], [1, 3, 5, 4], [1, 3, 5, 4], [1, 3, 5, 4], [1, 3, 5, 0], [1, 3, 5, 0], [1, 3, 5, 0], [1, 2, 5, 0], [1, 2, 3, 0], [1, 5, 3, 0]]]\n",
      "\n",
      "\n",
      "dict_keys(['A_zono'])\n",
      "E\n",
      "K kernel computed via:\n",
      "- 'A_zono' i.e. K = A.T (AA.T)^-1 A\n",
      "[[[6, 3, 1, 4], [6, 3, 1, 2], [6, 3, 1, 2], [6, 3, 1, 2], [6, 3, 1, 2], [6, 3, 1, 2], [6, 3, 1, 2], [6, 3, 1, 2], [6, 3, 1, 2], [6, 3, 1, 4]]]\n",
      "\n",
      "zonotope\n",
      "[array([[1, 2, 3, 6],\n",
      "       [1, 2, 3, 6],\n",
      "       [0, 2, 3, 6],\n",
      "       [0, 3, 4, 6],\n",
      "       [1, 3, 4, 6],\n",
      "       [1, 3, 4, 6],\n",
      "       [1, 3, 4, 6],\n",
      "       [1, 3, 4, 6],\n",
      "       [1, 3, 4, 6],\n",
      "       [1, 3, 4, 6]])]\n",
      "\n",
      "\n"
     ]
    }
   ],
   "source": [
    "ensemble_type, projection = \"K\", True\n",
    "for par in [{\"K_kernel\": K}, {\"K_eig_dec\": K_eig_dec}, {\"A_zono\": A}]:\n",
    "    \n",
    "    print(par.keys())\n",
    "    \n",
    "    for samp_mod in [\"E\", \"zonotope\"] if \"A_zono\" in par.keys() else [\"E\"]: \n",
    "        \n",
    "        print(samp_mod)\n",
    "        UST = Discrete_DPP(ensemble_type, projection, **par)\n",
    "        UST.sample_approx(sampling_mode=samp_mod) # default 10 MC steps\n",
    "        print(UST.list_of_samples)\n",
    "        print()\n",
    "\n",
    "    print()"
   ]
  },
  {
   "cell_type": "markdown",
   "metadata": {},
   "source": [
    "##### For NON projection $K$-ensemble"
   ]
  },
  {
   "cell_type": "code",
   "execution_count": 16,
   "metadata": {},
   "outputs": [
    {
     "name": "stdout",
     "output_type": "stream",
     "text": [
      "dict_keys(['K_kernel'])\n",
      "AED\n",
      "L kernel computed via:\n",
      "- eigendecomposition of K\n",
      "- eig_L = eig_K/(1-eig_K)\n",
      "- U diag(eig_L) U.T\n",
      "[[[0, 4, 6], [0, 4, 6], [0, 4, 6], [0, 4, 5], [0, 4, 5], [0, 4, 3], [0, 4, 3], [0, 4, 3], [0, 4, 3]]]\n",
      "\n",
      "AD\n",
      "L kernel computed via:\n",
      "- eigendecomposition of K\n",
      "- eig_L = eig_K/(1-eig_K)\n",
      "- U diag(eig_L) U.T\n",
      "[[[4], [4], [4], [4], [4], [4], [4], [4], [4, 2], [4, 2]]]\n",
      "\n",
      "E\n",
      "L kernel computed via:\n",
      "- eigendecomposition of K\n",
      "- eig_L = eig_K/(1-eig_K)\n",
      "- U diag(eig_L) U.T\n",
      "[[[4, 3], [4, 3], [4, 3], [4, 3], [4, 3], [4, 3], [4, 3], [4, 3], [4, 3], [4, 3]]]\n",
      "\n",
      "\n",
      "dict_keys(['K_eig_dec'])\n",
      "AED\n",
      "L kernel computed via:\n",
      "- eig_L = eig_K/(1-eig_K)\n",
      "- U diag(eig_L) U.T\n",
      "[[[1, 2, 6], [1, 2, 6], [1, 2, 6], [1, 2, 6], [1, 2, 6, 3], [1, 2, 6, 3], [1, 2, 6, 3], [1, 2, 6, 3], [1, 6, 3, 0]]]\n",
      "\n",
      "AD\n",
      "L kernel computed via:\n",
      "- eig_L = eig_K/(1-eig_K)\n",
      "- U diag(eig_L) U.T\n",
      "[[[2, 3, 4, 0], [2, 3, 4, 0], [2, 4, 0], [2, 4, 0], [2, 4, 0], [2, 4, 0], [2, 0], [2, 0, 4], [2, 0, 4], [2, 0, 4]]]\n",
      "\n",
      "E\n",
      "L kernel computed via:\n",
      "- eig_L = eig_K/(1-eig_K)\n",
      "- U diag(eig_L) U.T\n",
      "[[[4], [4], [4], [4], [2], [2], [2], [4], [2], [2]]]\n",
      "\n",
      "\n"
     ]
    }
   ],
   "source": [
    "ensemble_type, projection = \"K\", False\n",
    "\n",
    "K_np = A.T.dot(A)/5 #/5 (checked by hand) to make sure eigenvalue are in [0,1]\n",
    "K_np_eig_dec = la.eigh(K_np)\n",
    "\n",
    "for par in [{\"K_kernel\": K_np}, {\"K_eig_dec\": K_np_eig_dec}]:\n",
    "    \n",
    "    print(par.keys())\n",
    "    \n",
    "    for samp_mod in [\"AED\", \"AD\", \"E\"]: \n",
    "        \n",
    "        print(samp_mod)\n",
    "        UST = Discrete_DPP(ensemble_type, projection, **par)\n",
    "        UST.sample_approx(sampling_mode=samp_mod) # default 10 MC steps\n",
    "        print(UST.list_of_samples)\n",
    "        print()\n",
    "\n",
    "    print()"
   ]
  },
  {
   "cell_type": "markdown",
   "metadata": {},
   "source": [
    "For $L$-ensemble"
   ]
  },
  {
   "cell_type": "code",
   "execution_count": 17,
   "metadata": {},
   "outputs": [
    {
     "name": "stdout",
     "output_type": "stream",
     "text": [
      "dict_keys(['L_kernel'])\n",
      "AED\n",
      "L available\n",
      "[[[0, 5, 6], [0, 5, 6], [0, 5, 6], [0, 5, 6], [0, 5, 6], [0, 6, 4], [0, 6, 4], [0, 6, 4]]]\n",
      "\n",
      "AD\n",
      "L available\n",
      "[[[5, 0, 3, 1], [5, 0, 3, 1], [5, 0, 3, 1], [5, 0, 3, 1], [5, 0, 3, 1], [5, 0, 3, 1], [5, 0, 1], [5, 0, 1], [5, 0, 1, 3], [5, 0, 1, 3]]]\n",
      "\n",
      "E\n",
      "L available\n",
      "[[[6, 2, 0], [6, 2, 0], [6, 2, 0], [6, 2, 0], [6, 2, 0], [6, 2, 0], [6, 2, 0], [6, 4, 0], [6, 4, 0], [6, 4, 0]]]\n",
      "\n",
      "\n",
      "dict_keys(['L_eig_dec'])\n",
      "AED\n",
      "L kernel computed via:\n",
      "- U diag(eig_L) U.T\n",
      "[[[0, 2, 3, 6], [0, 2, 3, 6], [0, 2, 3, 6], [0, 2, 3, 6], [0, 2, 3], [0, 2, 3], [0, 2, 3]]]\n",
      "\n",
      "AD\n",
      "L kernel computed via:\n",
      "- U diag(eig_L) U.T\n",
      "[[[3, 0, 2, 1], [3, 0, 2, 1], [3, 0, 2, 1], [3, 0, 2, 1], [3, 2, 1], [3, 2], [3, 2], [3, 2, 0], [3, 2, 0], [3, 2, 0]]]\n",
      "\n",
      "E\n",
      "L kernel computed via:\n",
      "- U diag(eig_L) U.T\n",
      "[[[5, 6], [5, 6], [5, 3], [5, 3], [5, 3], [4, 3], [4, 2], [4, 2], [5, 2], [5, 2]]]\n",
      "\n",
      "\n",
      "dict_keys(['L_gram_factor'])\n",
      "AED\n",
      "d=4 < N=7: L dual kernel was computed\n",
      "L kernel computed via:\n",
      "- 'L_gram_factor' i.e. L = Phi.T Phi\n",
      "[[[1, 4, 6], [1, 4, 2], [1, 4, 2], [1, 4, 2], [1, 4, 2], [1, 4, 2], [1, 4, 2], [1, 4, 2]]]\n",
      "\n",
      "AD\n",
      "d=4 < N=7: L dual kernel was computed\n",
      "L kernel computed via:\n",
      "- 'L_gram_factor' i.e. L = Phi.T Phi\n",
      "[[[3], [3], [], [], [1], [1], [1, 5], [1, 5], [1, 5, 0], [5, 0]]]\n",
      "\n",
      "E\n",
      "d=4 < N=7: L dual kernel was computed\n",
      "L kernel computed via:\n",
      "- 'L_gram_factor' i.e. L = Phi.T Phi\n",
      "[[[5, 6, 3, 0], [5, 4, 3, 0], [5, 4, 3, 0], [5, 4, 3, 0], [2, 4, 3, 0], [2, 4, 3, 0], [2, 4, 3, 1], [2, 6, 3, 1], [2, 6, 3, 1], [2, 6, 3, 1]]]\n",
      "\n",
      "\n"
     ]
    }
   ],
   "source": [
    "ensemble_type, projection = \"L\", False# True/False\n",
    "for par in [{\"L_kernel\": A.T.dot(A)}, {\"L_eig_dec\": K_eig_dec}, {\"L_gram_factor\": A}]:\n",
    "    \n",
    "    print(par.keys())\n",
    "    \n",
    "    for samp_mod in [\"AED\", \"AD\", \"E\"]: \n",
    "        \n",
    "        print(samp_mod)\n",
    "        UST = Discrete_DPP(ensemble_type, projection, **par)\n",
    "        UST.sample_approx(sampling_mode=samp_mod) # default 10 MC steps\n",
    "        print(UST.list_of_samples)\n",
    "        print()\n",
    "\n",
    "    print()"
   ]
  },
  {
   "cell_type": "markdown",
   "metadata": {},
   "source": [
    "## Plotting\n",
    "```python\n",
    "ensemble_type, projection = \"K\"/\"L\", True/False\n",
    "params = {...}\n",
    "DPP = Discrete_DPP(ensemble_type, projection, **params)\n",
    "DPP.plot()\n",
    "```"
   ]
  },
  {
   "cell_type": "code",
   "execution_count": 18,
   "metadata": {},
   "outputs": [
    {
     "name": "stdout",
     "output_type": "stream",
     "text": [
      "For K-ensemble\n",
      "\n",
      "For projection kernel\n",
      "\n",
      "dict_keys(['K_kernel'])\n",
      "Inclusion kernel 'K'\n"
     ]
    },
    {
     "data": {
      "image/png": "[encoded data removed]",
      "text/plain": [
       "<Figure size 432x288 with 2 Axes>"
      ]
     },
     "metadata": {},
     "output_type": "display_data"
    },
    {
     "name": "stdout",
     "output_type": "stream",
     "text": [
      "\n",
      "dict_keys(['K_eig_dec'])\n",
      "K kernel computed via:\n",
      "- U diag(eig_K) U.T\n",
      "Inclusion kernel 'K'\n"
     ]
    },
    {
     "data": {
      "image/png": "[encoded data removed]",
      "text/plain": [
       "<Figure size 432x288 with 2 Axes>"
      ]
     },
     "metadata": {},
     "output_type": "display_data"
    },
    {
     "name": "stdout",
     "output_type": "stream",
     "text": [
      "\n",
      "dict_keys(['A_zono'])\n",
      "K kernel computed via:\n",
      "- 'A_zono' i.e. K = A.T (AA.T)^-1 A\n",
      "Inclusion kernel 'K'\n"
     ]
    },
    {
     "data": {
      "image/png": "[encoded data removed]",
      "text/plain": [
       "<Figure size 432x288 with 2 Axes>"
      ]
     },
     "metadata": {},
     "output_type": "display_data"
    },
    {
     "name": "stdout",
     "output_type": "stream",
     "text": [
      "\n",
      "\n",
      "For non-projection kernel\n",
      "\n",
      "dict_keys(['K_kernel'])\n",
      "Inclusion kernel 'K'\n"
     ]
    },
    {
     "data": {
      "image/png": "[encoded data removed]",
      "text/plain": [
       "<Figure size 432x288 with 2 Axes>"
      ]
     },
     "metadata": {},
     "output_type": "display_data"
    },
    {
     "name": "stdout",
     "output_type": "stream",
     "text": [
      "\n",
      "dict_keys(['K_eig_dec'])\n",
      "K kernel computed via:\n",
      "- U diag(eig_K) U.T\n",
      "Inclusion kernel 'K'\n"
     ]
    },
    {
     "data": {
      "image/png": "[encoded data removed]",
      "text/plain": [
       "<Figure size 432x288 with 2 Axes>"
      ]
     },
     "metadata": {},
     "output_type": "display_data"
    },
    {
     "name": "stdout",
     "output_type": "stream",
     "text": [
      "\n",
      "dict_keys(['A_zono'])\n",
      "K kernel computed via:\n",
      "- 'A_zono' i.e. K = A.T (AA.T)^-1 A\n",
      "Inclusion kernel 'K'\n"
     ]
    },
    {
     "name": "stderr",
     "output_type": "stream",
     "text": [
      "/Users/ggautier/Desktop/DPPy/dppy/discrete_dpps.py:209: UserWarning: Weird setting: K-ensemble defined via 'A_zono' but 'projection'=False. 'projection' switched to True\n",
      "  warn(\"Weird setting: K-ensemble defined via 'A_zono' but 'projection'=False. 'projection' switched to True\")\n"
     ]
    },
    {
     "data": {
      "image/png": "[encoded data removed]",
      "text/plain": [
       "<Figure size 432x288 with 2 Axes>"
      ]
     },
     "metadata": {},
     "output_type": "display_data"
    },
    {
     "name": "stdout",
     "output_type": "stream",
     "text": [
      "\n",
      "\n",
      "\n",
      "For L-ensemble\n",
      "\n",
      "For projection kernel\n",
      "\n",
      "dict_keys(['L_kernel'])\n",
      "Marginal kernel 'L'\n"
     ]
    },
    {
     "data": {
      "image/png": "[encoded data removed]",
      "text/plain": [
       "<Figure size 432x288 with 2 Axes>"
      ]
     },
     "metadata": {},
     "output_type": "display_data"
    },
    {
     "name": "stdout",
     "output_type": "stream",
     "text": [
      "\n",
      "dict_keys(['L_eig_dec'])\n",
      "L kernel computed via:\n",
      "- U diag(eig_L) U.T\n",
      "Marginal kernel 'L'\n"
     ]
    },
    {
     "data": {
      "image/png": "[encoded data removed]",
      "text/plain": [
       "<Figure size 432x288 with 2 Axes>"
      ]
     },
     "metadata": {},
     "output_type": "display_data"
    },
    {
     "name": "stdout",
     "output_type": "stream",
     "text": [
      "\n",
      "dict_keys(['L_gram_factor'])\n",
      "d=4 < N=7: L dual kernel was computed\n",
      "L kernel computed via:\n",
      "- 'L_gram_factor' i.e. L = Phi.T Phi\n",
      "Marginal kernel 'L'\n"
     ]
    },
    {
     "name": "stderr",
     "output_type": "stream",
     "text": [
      "/Users/ggautier/Desktop/DPPy/dppy/discrete_dpps.py:148: UserWarning: 'L_gram_factor'+'projection'=True is a very weird setting, you may switch to 'projection'=False\n",
      "  warn(\"'L_gram_factor'+'projection'=True is a very weird setting, you may switch to 'projection'=False\")\n"
     ]
    },
    {
     "data": {
      "image/png": "[encoded data removed]",
      "text/plain": [
       "<Figure size 432x288 with 2 Axes>"
      ]
     },
     "metadata": {},
     "output_type": "display_data"
    },
    {
     "name": "stdout",
     "output_type": "stream",
     "text": [
      "\n",
      "\n",
      "For non-projection kernel\n",
      "\n",
      "dict_keys(['L_kernel'])\n",
      "Marginal kernel 'L'\n"
     ]
    },
    {
     "data": {
      "image/png": "[encoded data removed]",
      "text/plain": [
       "<Figure size 432x288 with 2 Axes>"
      ]
     },
     "metadata": {},
     "output_type": "display_data"
    },
    {
     "name": "stdout",
     "output_type": "stream",
     "text": [
      "\n",
      "dict_keys(['L_eig_dec'])\n",
      "L kernel computed via:\n",
      "- U diag(eig_L) U.T\n",
      "Marginal kernel 'L'\n"
     ]
    },
    {
     "data": {
      "image/png": "[encoded data removed]",
      "text/plain": [
       "<Figure size 432x288 with 2 Axes>"
      ]
     },
     "metadata": {},
     "output_type": "display_data"
    },
    {
     "name": "stdout",
     "output_type": "stream",
     "text": [
      "\n",
      "dict_keys(['L_gram_factor'])\n",
      "d=4 < N=7: L dual kernel was computed\n",
      "L kernel computed via:\n",
      "- 'L_gram_factor' i.e. L = Phi.T Phi\n",
      "Marginal kernel 'L'\n"
     ]
    },
    {
     "data": {
      "image/png": "[encoded data removed]",
      "text/plain": [
       "<Figure size 432x288 with 2 Axes>"
      ]
     },
     "metadata": {},
     "output_type": "display_data"
    },
    {
     "name": "stdout",
     "output_type": "stream",
     "text": [
      "\n",
      "\n",
      "\n"
     ]
    }
   ],
   "source": [
    "K_ens_par = [{\"K_kernel\": K}, {\"K_eig_dec\": K_eig_dec}, {\"A_zono\": A}]\n",
    "L_ens_par = [{\"L_kernel\": K}, {\"L_eig_dec\": K_eig_dec}, {\"L_gram_factor\": A}]\n",
    "\n",
    "for ens in [\"K\", \"L\"]:\n",
    "    \n",
    "    print(\"For {}-ensemble\\n\".format(ens))\n",
    "    params = K_ens_par if ens == \"K\" else L_ens_par\n",
    "    \n",
    "    for proj in [True, False]:\n",
    "\n",
    "        print(\"For {}projection kernel\\n\".format(\"non-\" if not proj else \"\"))\n",
    "\n",
    "        for par in params:\n",
    "            print(par.keys())\n",
    "            UST = Discrete_DPP(ens, proj, **par)\n",
    "            UST.plot()\n",
    "            print()\n",
    "\n",
    "        print()\n",
    "        \n",
    "    print()"
   ]
  },
  {
   "cell_type": "code",
   "execution_count": null,
   "metadata": {},
   "outputs": [],
   "source": []
  }
 ],
 "metadata": {
  "anaconda-cloud": {},
  "kernelspec": {
   "display_name": "Python [default]",
   "language": "python",
   "name": "python3"
  },
  "language_info": {
   "codemirror_mode": {
    "name": "ipython",
    "version": 3
   },
   "file_extension": ".py",
   "mimetype": "text/x-python",
   "name": "python",
   "nbconvert_exporter": "python",
   "pygments_lexer": "ipython3",
   "version": "3.5.2"
  }
 },
 "nbformat": 4,
 "nbformat_minor": 2
}
