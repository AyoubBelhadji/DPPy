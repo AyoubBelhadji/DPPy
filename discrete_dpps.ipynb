{
 "cells": [
  {
   "cell_type": "markdown",
   "metadata": {},
   "source": [
    "# Discrete (k-)DPPs\n",
    "\n",
    "State of the art exact samplers for (k-)DPPs"
   ]
  },
  {
   "cell_type": "code",
   "execution_count": 1,
   "metadata": {},
   "outputs": [
    {
     "name": "stdout",
     "output_type": "stream",
     "text": [
      "Populating the interactive namespace from numpy and matplotlib\n"
     ]
    }
   ],
   "source": [
    "%pylab inline\n",
    "\n",
    "%load_ext autoreload\n",
    "%autoreload 2\n",
    "\n",
    "from dppy.discrete_dpps import *\n",
    "import networkx as nx"
   ]
  },
  {
   "cell_type": "markdown",
   "metadata": {},
   "source": [
    "# Toy example: uniform spanning tree (UST) kernel"
   ]
  },
  {
   "cell_type": "code",
   "execution_count": 2,
   "metadata": {},
   "outputs": [
    {
     "data": {
      "image/png": "[encoded data removed]",
      "text/plain": [
       "<Figure size 288x288 with 1 Axes>"
      ]
     },
     "metadata": {},
     "output_type": "display_data"
    }
   ],
   "source": [
    "g = nx.Graph()\n",
    "g.add_edges_from([(0,2), (0,3), (1,2), (1,4), (2,3), (2,4), (3,4)])\n",
    "nx.set_node_attributes(g, 'color', 'orange')\n",
    "\n",
    "edge_lab = [r'$e_{}$'.format(i) for i in range(1,g.number_of_edges()+1)]\n",
    "edge_labels = dict(zip(g.edges(), edge_lab))\n",
    "vertex_labels = dict(zip(g.nodes(), [i for i in range(1,g.number_of_nodes()+1)]))\n",
    "\n",
    "fig = plt.figure(figsize=(4,4))\n",
    "\n",
    "nx.draw_circular(g, node_color='orange', width = 3)\n",
    "pos=nx.circular_layout(g)\n",
    "nx.draw_networkx_labels(g,pos,vertex_labels)\n",
    "nx.draw_networkx_edge_labels(g, pos, edge_labels = edge_labels, font_size= 20)\n",
    "\n",
    "Inc_Mat=nx.incidence_matrix(g,oriented=True).toarray()"
   ]
  },
  {
   "cell_type": "code",
   "execution_count": 3,
   "metadata": {},
   "outputs": [],
   "source": [
    "# Projection Kernel onto the rows of the incidence matrix\n",
    "A=Inc_Mat[:-1,:]\n",
    "K = A.T.dot(np.linalg.inv(A.dot(A.T))).dot(A)"
   ]
  },
  {
   "cell_type": "markdown",
   "metadata": {},
   "source": [
    "### DPP with kernel K"
   ]
  },
  {
   "cell_type": "code",
   "execution_count": 4,
   "metadata": {},
   "outputs": [
    {
     "name": "stdout",
     "output_type": "stream",
     "text": [
      "Discrete DPP defined by:\n",
      "- K-ensemble on 7 items\n",
      "- Projection kernel: Yes\n",
      "- sampling mode = GS\n",
      "- number of samples = 0\n"
     ]
    }
   ],
   "source": [
    "UST = Discrete_DPP(kernel=K, ensemble_type='K', projection_kernel=True)\n",
    "print(UST) # or UST.info()"
   ]
  },
  {
   "cell_type": "markdown",
   "metadata": {},
   "source": [
    "##### The different `sampling_mode`s  available are:\n",
    "- `GS`: Gram-Schmidt (equiv. Cholesky) like conditional updates\n",
    "- `Schur`: Schur complement like conditional updates\n",
    "- `KuTa12`: original sampling algorithm in Kulesza's thesis"
   ]
  },
  {
   "cell_type": "code",
   "execution_count": 5,
   "metadata": {},
   "outputs": [
    {
     "data": {
      "text/plain": [
       "[array([6, 1, 2, 4]),\n",
       " array([6, 1, 5, 3]),\n",
       " array([6, 0, 4, 2]),\n",
       " array([3, 0, 2, 6]),\n",
       " array([6, 1, 0, 3]),\n",
       " array([0, 2, 5, 1]),\n",
       " array([1, 3, 5, 6]),\n",
       " array([3, 5, 4, 0]),\n",
       " array([2, 4, 5, 1]),\n",
       " array([3, 4, 2, 1]),\n",
       " array([1, 6, 4, 3]),\n",
       " array([6, 2, 0, 3]),\n",
       " array([1, 2, 4, 3]),\n",
       " array([4, 1, 2, 3]),\n",
       " array([6, 1, 2, 5])]"
      ]
     },
     "execution_count": 5,
     "metadata": {},
     "output_type": "execute_result"
    }
   ],
   "source": [
    "UST.flush_samples()\n",
    "\n",
    "for samp_mod in ('GS','Schur','KuTa12'):\n",
    "    for _ in range(5):\n",
    "        UST.sample_exact(sampling_mode=samp_mod)\n",
    "        \n",
    "UST.list_of_samples"
   ]
  },
  {
   "cell_type": "markdown",
   "metadata": {},
   "source": [
    "### k-DPP with kernel K"
   ]
  },
  {
   "cell_type": "code",
   "execution_count": 6,
   "metadata": {},
   "outputs": [
    {
     "name": "stdout",
     "output_type": "stream",
     "text": [
      "Discrete k-DPP with k=3 defined by:\n",
      "- K-ensemble on 7 items\n",
      "- Projection kernel: Yes\n",
      "- sampling mode = GS\n",
      "- number of samples = 0\n"
     ]
    }
   ],
   "source": [
    "size = 3\n",
    "UST_k = Discrete_kDPP(size=size, kernel=K, ensemble_type='K', projection_kernel=True)\n",
    "print(UST_k) # or UST_k.info()"
   ]
  },
  {
   "cell_type": "code",
   "execution_count": 7,
   "metadata": {},
   "outputs": [
    {
     "data": {
      "text/plain": [
       "[array([4, 0, 3]),\n",
       " array([3, 6, 5]),\n",
       " array([3, 2, 0]),\n",
       " array([5, 3, 1]),\n",
       " array([6, 3, 0]),\n",
       " array([6, 3, 0]),\n",
       " array([5, 1, 3]),\n",
       " array([0, 2, 5]),\n",
       " array([6, 0, 2]),\n",
       " array([6, 1, 2]),\n",
       " array([5, 0, 3]),\n",
       " array([4, 0, 2]),\n",
       " array([2, 1, 4]),\n",
       " array([0, 6, 3]),\n",
       " array([6, 1, 2])]"
      ]
     },
     "execution_count": 7,
     "metadata": {},
     "output_type": "execute_result"
    }
   ],
   "source": [
    "UST_k.flush_samples()\n",
    "\n",
    "for samp_mod in ('GS','Schur','KuTa12'):\n",
    "    for _ in range(5):\n",
    "        UST_k.sample_exact(sampling_mode=samp_mod)\n",
    "        \n",
    "UST_k.list_of_samples"
   ]
  },
  {
   "cell_type": "markdown",
   "metadata": {},
   "source": [
    "Generally, passing `projection_kernel=True`, diagonalisation is not performed at the creation of the object since it is not necessay for the sampling phase. On the contrary,, passing `projection_kernel=False`, diagonalisation is performed.\n",
    "\n",
    "For DPPs:\n",
    "- Passing `ensemble_type='K'`, the parameters of the Bernoulli variables used for sampling =\n",
    "    - eig_vals of K.\n",
    "\n",
    "- Passing `ensemble_type='L'`, the parameters of the Bernoulli variables used for sampling =\n",
    "    - eig_vals/(1+eig_vals) of L.\n",
    "    \n",
    "For k-DPPs, elementary-symmetric polynomials are applied to the above Bernoulli parameters and used for sampling."
   ]
  },
  {
   "cell_type": "code",
   "execution_count": 8,
   "metadata": {
    "scrolled": true
   },
   "outputs": [
    {
     "name": "stdout",
     "output_type": "stream",
     "text": [
      "[-1.31071400e-16  2.11222874e-16  8.88178420e-16  1.00000000e+00\n",
      "  1.00000000e+00  1.00000000e+00  1.00000000e+00]\n",
      "[-1.31071400e-16  2.11222874e-16  8.88178420e-16  5.00000000e-01\n",
      "  5.00000000e-01  5.00000000e-01  5.00000000e-01]\n"
     ]
    }
   ],
   "source": [
    "UST = Discrete_DPP(kernel=K, ensemble_type='K', projection_kernel=False)\n",
    "print(UST.ber_params_sampling)\n",
    "\n",
    "UST = Discrete_DPP(kernel=K, ensemble_type='L', projection_kernel=False)\n",
    "print(UST.ber_params_sampling)"
   ]
  },
  {
   "cell_type": "markdown",
   "metadata": {},
   "source": [
    "### Display the kernel as a heatmap"
   ]
  },
  {
   "cell_type": "code",
   "execution_count": 9,
   "metadata": {},
   "outputs": [
    {
     "data": {
      "image/png": "[encoded data removed]",
      "text/plain": [
       "<Figure size 432x288 with 2 Axes>"
      ]
     },
     "metadata": {},
     "output_type": "display_data"
    }
   ],
   "source": [
    "UST.plot()"
   ]
  }
 ],
 "metadata": {
  "anaconda-cloud": {},
  "kernelspec": {
   "display_name": "Python [default]",
   "language": "python",
   "name": "python3"
  },
  "language_info": {
   "codemirror_mode": {
    "name": "ipython",
    "version": 3
   },
   "file_extension": ".py",
   "mimetype": "text/x-python",
   "name": "python",
   "nbconvert_exporter": "python",
   "pygments_lexer": "ipython3",
   "version": "3.5.2"
  }
 },
 "nbformat": 4,
 "nbformat_minor": 2
}
